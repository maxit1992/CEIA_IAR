{
  "nbformat": 4,
  "nbformat_minor": 0,
  "metadata": {
    "colab": {
      "name": "smoothing.ipynb",
      "provenance": []
    },
    "kernelspec": {
      "name": "python3",
      "display_name": "Python 3"
    },
    "language_info": {
      "name": "python"
    }
  },
  "cells": [
    {
      "cell_type": "code",
      "metadata": {
        "id": "MKgwPxgZbJt3"
      },
      "source": [
        "# -------------\n",
        "# User Instructions\n",
        "#\n",
        "# Here you will be implementing a cyclic smoothing\n",
        "# algorithm. This algorithm should not fix the end\n",
        "# points (as you did in the unit quizzes). You  \n",
        "# should use the gradient descent equations that\n",
        "# you used previously.\n",
        "#\n",
        "# Your function should return the newpath that it\n",
        "# calculates.\n",
        "#\n",
        "# Feel free to use the provided solution_check function\n",
        "# to test your code. You can find it at the bottom.\n",
        "#\n",
        "# --------------\n",
        "# Testing Instructions\n",
        "# \n",
        "# To test your code, call the solution_check function with\n",
        "# two arguments. The first argument should be the result of your\n",
        "# smooth function. The second should be the corresponding answer.\n",
        "# For example, calling\n",
        "#\n",
        "# solution_check(smooth(testpath1), answer1)\n",
        "#\n",
        "# should return True if your answer is correct and False if\n",
        "# it is not.\n",
        "\n",
        "from math import *\n",
        "from copy import deepcopy\n",
        "\n",
        "# Do not modify path inside your function.\n",
        "path=[[0, 0], \n",
        "      [1, 0],\n",
        "      [2, 0],\n",
        "      [3, 0],\n",
        "      [4, 0],\n",
        "      [5, 0],\n",
        "      [6, 0],\n",
        "      [6, 1],\n",
        "      [6, 2],\n",
        "      [6, 3],\n",
        "      [5, 3],\n",
        "      [4, 3],\n",
        "      [3, 3],\n",
        "      [2, 3],\n",
        "      [1, 3],\n",
        "      [0, 3],\n",
        "      [0, 2],\n",
        "      [0, 1]]\n",
        "\n",
        "############# ONLY ENTER CODE BELOW THIS LINE ##########\n",
        "\n",
        "# ------------------------------------------------\n",
        "# smooth coordinates\n",
        "# If your code is timing out, make the tolerance parameter\n",
        "# larger to decrease run time.\n",
        "#\n",
        "\n",
        "def smooth(path, weight_data = 0.1, weight_smooth = 0.1, tolerance = 0.00001):\n",
        "\n",
        "    newpath = deepcopy(path)\n",
        "    change = tolerance\n",
        "    count = 0.0\n",
        "    epochs = 50\n",
        "    for epoch in range(epochs):\n",
        "        change = 0.0\n",
        "        count += 1 \n",
        "        for i in range(0,len(path)):  \n",
        "            for j in range(len(path[0])):\n",
        "                aux = newpath[i][j]\n",
        "                iaux = i + 1\n",
        "                iaux = (iaux % len(path))\n",
        "                newpath[i][j] += weight_data * (path[i][j] - newpath[i][j]) +  weight_smooth * (newpath[i-1][j] + newpath[iaux][j] - 2.0 * newpath[i][j])\n",
        "                change += abs(aux-newpath[i][j])\n",
        "  \n",
        "    return newpath\n",
        "\n",
        "# thank you - EnTerr - for posting this on our discussion forum\n",
        "\n",
        "#newpath = smooth(path)\n",
        "#for i in range(len(path)):\n",
        "#    print '['+ ', '.join('%.3f'%x for x in path[i]) +'] -> ['+ ', '.join('%.3f'%x for x in newpath[i]) +']'\n",
        "\n",
        "\n",
        "##### TESTING ######\n",
        "\n",
        "# --------------------------------------------------\n",
        "# check if two numbers are 'close enough,'used in\n",
        "# solution_check function.\n",
        "#\n",
        "def close_enough(user_answer, true_answer, epsilon = 0.001):\n",
        "    if abs(user_answer - true_answer) > epsilon:\n",
        "        return False\n",
        "    return True\n",
        "\n",
        "# --------------------------------------------------\n",
        "# check your solution against our reference solution for\n",
        "# a variety of test cases (given below)\n",
        "#\n",
        "def solution_check(newpath, answer):\n",
        "    if type(newpath) != type(answer):\n",
        "        print (\"Error. You do not return a list.\")\n",
        "        return False\n",
        "    if len(newpath) != len(answer):\n",
        "        print ('Error. Your newpath is not the correct length.')\n",
        "        return False\n",
        "    if len(newpath[0]) != len(answer[0]):\n",
        "        print ('Error. Your entries do not contain an (x, y) coordinate pair.')\n",
        "        return False\n",
        "    for i in range(len(newpath)): \n",
        "        for j in range(len(newpath[0])):\n",
        "            if not close_enough(newpath[i][j], answer[i][j]):\n",
        "                print ('Error, at least one of your entries is not correct.')\n",
        "                return False\n",
        "    print (\"Test case correct!\")\n",
        "    return True\n",
        "\n",
        "# --------------\n",
        "# Testing Instructions\n",
        "# \n",
        "# To test your code, call the solution_check function with\n",
        "# two arguments. The first argument should be the result of your\n",
        "# smooth function. The second should be the corresponding answer.\n",
        "# For example, calling\n",
        "#\n",
        "# solution_check(smooth(testpath1), answer1)\n",
        "#\n",
        "# should return True if your answer is correct and False if\n",
        "# it is not.\n",
        "    \n",
        "testpath1 = [[0, 0],\n",
        "             [1, 0],\n",
        "             [2, 0],\n",
        "             [3, 0],\n",
        "             [4, 0],\n",
        "             [5, 0],\n",
        "             [6, 0],\n",
        "             [6, 1],\n",
        "             [6, 2],\n",
        "             [6, 3],\n",
        "             [5, 3],\n",
        "             [4, 3],\n",
        "             [3, 3],\n",
        "             [2, 3],\n",
        "             [1, 3],\n",
        "             [0, 3],\n",
        "             [0, 2],\n",
        "             [0, 1]]\n",
        "\n",
        "answer1 = [[0.4705860385182691, 0.4235279620576893], \n",
        "           [1.1764695730296597, 0.16470408411716733], \n",
        "           [2.058823799247812, 0.07058633859438503], \n",
        "           [3.000001503542886, 0.04705708651959327], \n",
        "           [3.9411790099468273, 0.07058689299792453], \n",
        "           [4.8235326678889345, 0.16470511854183797], \n",
        "           [5.529415336860586, 0.4235293374365447], \n",
        "           [5.76470933698621, 1.1058829941330384], \n",
        "           [5.764708805535902, 1.8941189433780983], \n",
        "           [5.5294138118186265, 2.5764724018811056], \n",
        "           [4.823530348360371, 2.835296251305122], \n",
        "           [3.941176199414957, 2.929413985845729],\n",
        "           [2.9999985709076413, 2.952943245204772], \n",
        "           [2.0588211310939526, 2.9294134622132018], \n",
        "           [1.1764675231284938, 2.8352952720424938], \n",
        "           [0.4705848811030855, 2.5764710948028178], \n",
        "           [0.23529088056307781, 1.8941174802285707], \n",
        "           [0.23529138316655338, 1.1058815684272394]]\n",
        "\n",
        "testpath2 = [[1, 0], # Move in the shape of a plus sign\n",
        "             [2, 0],\n",
        "             [2, 1],\n",
        "             [3, 1],\n",
        "             [3, 2],\n",
        "             [2, 2],\n",
        "             [2, 3],\n",
        "             [1, 3],\n",
        "             [1, 2],\n",
        "             [0, 2], \n",
        "             [0, 1],\n",
        "             [1, 1]]\n",
        "\n",
        "answer2 = [[1.2222234770374059, 0.4444422843711052],\n",
        "           [1.7777807251383388, 0.4444432993123497], \n",
        "           [2.111114925633848, 0.8888894279539462], \n",
        "           [2.5555592020540376, 1.2222246475393077], \n",
        "           [2.5555580686154244, 1.7777817817879298], \n",
        "           [2.111111849558437, 2.1111159707965514], \n",
        "           [1.7777765871460525, 2.55556033483712], \n",
        "           [1.2222194640861452, 2.5555593592828543], \n",
        "           [0.8888853322565222, 2.111113321684573], \n",
        "           [0.44444105139827167, 1.777778212019149], \n",
        "           [0.44444210978390364, 1.2222211690821811], \n",
        "           [0.8888882042812255, 0.8888870211766268]]\n",
        "\n",
        "# solution_check(smooth(testpath2), answer2)"
      ],
      "execution_count": 1,
      "outputs": []
    },
    {
      "cell_type": "code",
      "metadata": {
        "colab": {
          "base_uri": "https://localhost:8080/",
          "height": 302
        },
        "id": "9_3B4PuWyhgl",
        "outputId": "c03b5c21-8c9c-480f-8457-56104aec276d"
      },
      "source": [
        "import matplotlib.pyplot as plt\n",
        "path1_smooth = smooth(testpath1)\n",
        "solution_check( path1_smooth , answer1)\n",
        "\n",
        "plt.plot([j[0] for j in testpath1],[j[1] for j in testpath1], color='blue', label=\"path\")\n",
        "plt.plot([j[0] for j in path1_smooth],[j[1] for j in path1_smooth], color='orange',label=\"calculated\",linewidth=3)\n",
        "plt.plot([j[0] for j in answer1],[j[1] for j in answer1], color='green',label=\"answer\")\n",
        "plt.legend()"
      ],
      "execution_count": 2,
      "outputs": [
        {
          "output_type": "stream",
          "name": "stdout",
          "text": [
            "Test case correct!\n"
          ]
        },
        {
          "output_type": "execute_result",
          "data": {
            "text/plain": [
              "<matplotlib.legend.Legend at 0x7fe4e88b9cd0>"
            ]
          },
          "metadata": {},
          "execution_count": 2
        },
        {
          "output_type": "display_data",
          "data": {
            "image/png": "[encoded data removed]",
            "text/plain": [
              "<Figure size 432x288 with 1 Axes>"
            ]
          },
          "metadata": {
            "needs_background": "light"
          }
        }
      ]
    },
    {
      "cell_type": "code",
      "metadata": {
        "colab": {
          "base_uri": "https://localhost:8080/",
          "height": 302
        },
        "id": "osOURB7sz1iI",
        "outputId": "c59bbe78-a7ab-476d-919c-f1cb37d200c6"
      },
      "source": [
        "import matplotlib.pyplot as plt\n",
        "path2_smooth = smooth(testpath2)\n",
        "solution_check( path2_smooth , answer2)\n",
        "\n",
        "plt.plot([j[0] for j in testpath2],[j[1] for j in testpath2], color='blue', label=\"path\")\n",
        "plt.plot([j[0] for j in path2_smooth],[j[1] for j in path2_smooth], color='orange',label=\"calculated\",linewidth=3)\n",
        "plt.plot([j[0] for j in answer2],[j[1] for j in answer2], color='green',label=\"answer\")\n",
        "plt.legend()"
      ],
      "execution_count": 3,
      "outputs": [
        {
          "output_type": "stream",
          "name": "stdout",
          "text": [
            "Test case correct!\n"
          ]
        },
        {
          "output_type": "execute_result",
          "data": {
            "text/plain": [
              "<matplotlib.legend.Legend at 0x7fe4e2273450>"
            ]
          },
          "metadata": {},
          "execution_count": 3
        },
        {
          "output_type": "display_data",
          "data": {
            "image/png": "[encoded data removed]",
            "text/plain": [
              "<Figure size 432x288 with 1 Axes>"
            ]
          },
          "metadata": {
            "needs_background": "light"
          }
        }
      ]
    }
  ]
}