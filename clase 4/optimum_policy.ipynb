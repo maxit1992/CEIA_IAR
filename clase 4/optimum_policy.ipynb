{
  "nbformat": 4,
  "nbformat_minor": 0,
  "metadata": {
    "colab": {
      "name": "optimum_policy.ipynb",
      "provenance": [],
      "collapsed_sections": [
        "DJOWiNVWF54c"
      ]
    },
    "kernelspec": {
      "name": "python3",
      "display_name": "Python 3"
    },
    "language_info": {
      "name": "python"
    }
  },
  "cells": [
    {
      "cell_type": "markdown",
      "metadata": {
        "id": "cZE2LiYmbUAp"
      },
      "source": [
        "## Optimum Policy"
      ]
    },
    {
      "cell_type": "code",
      "metadata": {
        "id": "Eap3eKtva6m5"
      },
      "source": [
        "# ----------\n",
        "# User Instructions:\n",
        "# \n",
        "# Write a function optimum_policy that returns\n",
        "# a grid which shows the optimum policy for robot\n",
        "# motion. This means there should be an optimum\n",
        "# direction associated with each navigable cell from\n",
        "# which the goal can be reached.\n",
        "# \n",
        "# Unnavigable cells as well as cells from which \n",
        "# the goal cannot be reached should have a string \n",
        "# containing a single space (' '). The goal cell should have '*'.\n",
        "# ----------\n",
        "def optimum_policy(grid,goal,cost,delta,delta_name):\n",
        "    # ----------------------------------------\n",
        "    # modify code below\n",
        "    # ----------------------------------------\n",
        "    value = [[99 for row in range(len(grid[0]))] for col in range(len(grid))]\n",
        "    board =  [[' ' for row in range(len(grid[0]))] for col in range(len(grid))]\n",
        "    board[goal[0]][goal[1]] = '*'\n",
        "\n",
        "    change = True\n",
        "\n",
        "    while change:\n",
        "        change = False\n",
        "\n",
        "        for x in range(len(grid)):\n",
        "            for y in range(len(grid[0])):\n",
        "                if goal[0] == x and goal[1] == y:\n",
        "                    if value[x][y] > 0:\n",
        "                        value[x][y] = 0\n",
        "\n",
        "                        change = True\n",
        "\n",
        "                elif grid[x][y] == 0:\n",
        "                    for a in range(len(delta)):\n",
        "                        x2 = x + delta[a][0]\n",
        "                        y2 = y + delta[a][1]\n",
        "                        d2 = delta_name[a]\n",
        "\n",
        "                        if x2 >= 0 and x2 < len(grid) and y2 >= 0 and y2 < len(grid[0]) and grid[x2][y2] == 0:\n",
        "                            v2 = value[x2][y2] + cost\n",
        "\n",
        "                            if v2 < value[x][y]:\n",
        "                                change = True\n",
        "                                value[x][y] = v2\n",
        "                                board[x][y] = d2\n",
        "\n",
        "    return board\n"
      ],
      "execution_count": 1,
      "outputs": []
    },
    {
      "cell_type": "code",
      "metadata": {
        "colab": {
          "base_uri": "https://localhost:8080/"
        },
        "id": "-RSA0Wzj3oV0",
        "outputId": "c160d30b-6916-45f1-9ba1-9d1a0252d754"
      },
      "source": [
        "grid = [[0, 1, 0, 0, 0, 0],\n",
        "        [0, 1, 0, 0, 0, 0],\n",
        "        [0, 1, 0, 0, 0, 0],\n",
        "        [0, 1, 0, 0, 0, 0],\n",
        "        [0, 0, 0, 0, 1, 0]]\n",
        "init = [0, 0]\n",
        "goal = [len(grid)-1, len(grid[0])-1]\n",
        "cost = 1 # the cost associated with moving from a cell to an adjacent one\n",
        "\n",
        "delta = [[-1, 0 ], # go up\n",
        "         [ 0, -1], # go left\n",
        "         [ 1, 0 ], # go down\n",
        "         [ 0, 1 ]] # go right\n",
        "\n",
        "delta_name = ['^', '<', 'v', '>']\n",
        "\n",
        "optimum_policy(grid,goal,cost,delta,delta_name)"
      ],
      "execution_count": 2,
      "outputs": [
        {
          "output_type": "execute_result",
          "data": {
            "text/plain": [
              "[['v', ' ', 'v', 'v', 'v', 'v'],\n",
              " ['v', ' ', 'v', 'v', 'v', 'v'],\n",
              " ['v', ' ', 'v', 'v', 'v', 'v'],\n",
              " ['v', ' ', '>', '>', '>', 'v'],\n",
              " ['>', '>', '^', '^', ' ', '*']]"
            ]
          },
          "metadata": {},
          "execution_count": 2
        }
      ]
    },
    {
      "cell_type": "code",
      "metadata": {
        "colab": {
          "base_uri": "https://localhost:8080/"
        },
        "id": "K3kMfeqaivwL",
        "outputId": "3ae51553-c994-4241-fdca-3da8d3499224"
      },
      "source": [
        "grid = [[0, 0, 1, 0, 0, 0],\n",
        "        [0, 0, 1, 0, 0, 0],\n",
        "        [0, 0, 0, 0, 1, 0],\n",
        "        [0, 0, 1, 1, 1, 0],\n",
        "        [0, 0, 0, 0, 1, 0]]\n",
        "\n",
        "optimum_policy(grid,goal,cost,delta,delta_name)"
      ],
      "execution_count": 3,
      "outputs": [
        {
          "output_type": "execute_result",
          "data": {
            "text/plain": [
              "[['v', 'v', ' ', 'v', 'v', 'v'],\n",
              " ['v', 'v', ' ', '>', '>', 'v'],\n",
              " ['>', '>', '>', '^', ' ', 'v'],\n",
              " ['^', '^', ' ', ' ', ' ', 'v'],\n",
              " ['^', '^', '<', '<', ' ', '*']]"
            ]
          },
          "metadata": {},
          "execution_count": 3
        }
      ]
    },
    {
      "cell_type": "markdown",
      "metadata": {
        "id": "IQb1RnJAbYop"
      },
      "source": [
        "## Turn Right Policy\n",
        "La consigna está explicada acá:\n",
        "\n",
        "https://www.youtube.com/watch?v=bQA2ELDNmmg\n",
        "\n"
      ]
    },
    {
      "cell_type": "code",
      "metadata": {
        "id": "-iITSuWMbosa"
      },
      "source": [
        "def optimum_policy2D(grid,init,goal,cost,action,forward, action_name):\n",
        "\n",
        "    value = [[[999 for row in range(len(grid[0]))] for col in range(len(grid))]\n",
        "             for d in range(len(forward))]\n",
        "\n",
        "    full_policy =  [[[' ' for row in range(len(grid[0]))] for col in range(len(grid))]\n",
        "                    for d in range(len(forward))]\n",
        "\n",
        "    full_action =  [[[0 for row in range(len(grid[0]))] for col in range(len(grid))]\n",
        "                      for d in range(len(forward))]\n",
        "\n",
        "    board =  [[' ' for row in range(len(grid[0]))] for col in range(len(grid))]           \n",
        "    \n",
        "    full_policy[0][goal[0]][goal[1]] = '*'\n",
        "    full_policy[1][goal[0]][goal[1]] = '*'\n",
        "    full_policy[2][goal[0]][goal[1]] = '*'\n",
        "    full_policy[3][goal[0]][goal[1]] = '*'\n",
        "\n",
        "    board[goal[0]][goal[1]] = '*'\n",
        "\n",
        "    change = True\n",
        "\n",
        "    while change:\n",
        "        change = False\n",
        "\n",
        "        for dir in range(len(forward)):\n",
        "          for x in range(len(grid)):\n",
        "              for y in range(len(grid[0])):\n",
        "              \n",
        "                if goal[0] == x and goal[1] == y:\n",
        "                    if value[dir][x][y] > 0:\n",
        "                        value[dir][x][y] = 0\n",
        "                        change = True\n",
        "\n",
        "                elif grid[x][y] == 0:\n",
        "                  for a in range(len(action)):\n",
        "                    dir2 = dir + action[a]\n",
        "                    if dir2<0:\n",
        "                      dir2+=len(forward)\n",
        "                    if dir2>=len(forward):\n",
        "                      dir2-=len(forward)\n",
        "                        \n",
        "                    x2 = x + forward[dir2][0]\n",
        "                    y2 = y + forward[dir2][1]\n",
        "\n",
        "                    if x2 >= 0 and x2 < len(grid) and y2 >= 0 and y2 < len(grid[0]) and grid[x2][y2] == 0:\n",
        "\n",
        "                        v2 = value[dir2][x2][y2] + cost[a]\n",
        "\n",
        "                        if v2 < value[dir][x][y]:\n",
        "                            change = True\n",
        "                            value[dir][x][y] = v2\n",
        "                            full_policy[dir][x][y] = action_name[a]\n",
        "                            full_action[dir][x][y] = a\n",
        "\n",
        "    \n",
        "    # Make board for this init case\n",
        "    x = init[0]\n",
        "    y = init[1]\n",
        "    z = init[2]\n",
        "\n",
        "    while x!= goal[0] or y!=goal[1]:\n",
        "      \n",
        "      board[x][y] = action_name[full_action[z][x][y]]\n",
        "\n",
        "      z = z +   action[full_action[z][x][y]]\n",
        "      if z<0:\n",
        "        z+=len(forward)\n",
        "      if z>=len(forward):\n",
        "        z-=len(forward)\n",
        "      \n",
        "      x = x + forward[z][0]\n",
        "      y = y + forward[z][1]\n",
        "\n",
        "    \n",
        "    # We can change the return to full_policy to have the optimum board for every init position\n",
        "    return board\n"
      ],
      "execution_count": 4,
      "outputs": []
    },
    {
      "cell_type": "code",
      "metadata": {
        "colab": {
          "base_uri": "https://localhost:8080/"
        },
        "id": "BZyrymwevZlJ",
        "outputId": "bcb1e511-0190-4c04-a38d-28d4335423bf"
      },
      "source": [
        "forward = [[-1,  0], # go up\n",
        "           [ 0, -1], # go left\n",
        "           [ 1,  0], # go down\n",
        "           [ 0,  1]] # go right\n",
        "\n",
        "forward_name = ['up', 'left', 'down', 'right']\n",
        "\n",
        "# action has 3 values: right turn, no turn, left turn\n",
        "action = [-1, 0, 1]\n",
        "action_name = ['R', '#', 'L']\n",
        "\n",
        "# EXAMPLE INPUTS:\n",
        "# grid format:\n",
        "#     0 = navigable space\n",
        "#     1 = unnavigable space \n",
        "grid = [[1, 1, 1, 0, 0, 0],\n",
        "        [1, 1, 1, 0, 1, 0],\n",
        "        [0, 0, 0, 0, 0, 0],\n",
        "        [1, 1, 1, 0, 1, 1],\n",
        "        [1, 1, 1, 0, 1, 1]]\n",
        "\n",
        "init = [4, 3, 0] # given in the form [row,col,direction]\n",
        "                 # direction = 0: up\n",
        "                 #             1: left\n",
        "                 #             2: down\n",
        "                 #             3: right\n",
        "                \n",
        "goal = [2, 0] # given in the form [row,col]\n",
        "\n",
        "cost = [2, 1, 20] # cost has 3 values, corresponding to making \n",
        "                  # a right turn, no turn, and a left turn\n",
        "\n",
        "board = optimum_policy2D(grid,init,goal,cost,action,forward,action_name)\n",
        "board"
      ],
      "execution_count": 5,
      "outputs": [
        {
          "output_type": "execute_result",
          "data": {
            "text/plain": [
              "[[' ', ' ', ' ', 'R', '#', 'R'],\n",
              " [' ', ' ', ' ', '#', ' ', '#'],\n",
              " ['*', '#', '#', '#', '#', 'R'],\n",
              " [' ', ' ', ' ', '#', ' ', ' '],\n",
              " [' ', ' ', ' ', '#', ' ', ' ']]"
            ]
          },
          "metadata": {},
          "execution_count": 5
        }
      ]
    },
    {
      "cell_type": "markdown",
      "metadata": {
        "id": "MArzlOGen99o"
      },
      "source": [
        "## Dynamic programming aplicado a vehículo autónomo\n",
        "\n",
        "https://www.youtube.com/watch?v=M7ZJ74RVHqo"
      ]
    },
    {
      "cell_type": "markdown",
      "metadata": {
        "id": "DJOWiNVWF54c"
      },
      "source": [
        "## Extra: Solución óptima para todos lós caminos"
      ]
    },
    {
      "cell_type": "code",
      "metadata": {
        "id": "gg1m__15MQVA"
      },
      "source": [
        "def optimum_policy2D(grid,init,goal,cost,action,forward, action_name):\n",
        "\n",
        "    value = [[[999 for row in range(len(grid[0]))] for col in range(len(grid))]\n",
        "             for d in range(len(forward))]\n",
        "\n",
        "    full_policy =  [[[' ' for row in range(len(grid[0]))] for col in range(len(grid))]\n",
        "                    for d in range(len(forward))]         \n",
        "    \n",
        "    full_policy[0][goal[0]][goal[1]] = '*'\n",
        "    full_policy[1][goal[0]][goal[1]] = '*'\n",
        "    full_policy[2][goal[0]][goal[1]] = '*'\n",
        "    full_policy[3][goal[0]][goal[1]] = '*'\n",
        "\n",
        "\n",
        "    change = True\n",
        "\n",
        "    while change:\n",
        "        change = False\n",
        "\n",
        "        for dir in range(len(forward)):\n",
        "          for x in range(len(grid)):\n",
        "              for y in range(len(grid[0])):\n",
        "              \n",
        "                if goal[0] == x and goal[1] == y:\n",
        "                    if value[dir][x][y] > 0:\n",
        "                        value[dir][x][y] = 0\n",
        "                        change = True\n",
        "\n",
        "                elif grid[x][y] == 0:\n",
        "                  for a in range(len(action)):\n",
        "                    dir2 = dir + action[a]\n",
        "                    if dir2<0:\n",
        "                      dir2+=len(forward)\n",
        "                    if dir2>=len(forward):\n",
        "                      dir2-=len(forward)\n",
        "                        \n",
        "                    x2 = x + forward[dir2][0]\n",
        "                    y2 = y + forward[dir2][1]\n",
        "\n",
        "                    if x2 >= 0 and x2 < len(grid) and y2 >= 0 and y2 < len(grid[0]) and grid[x2][y2] == 0:\n",
        "\n",
        "                        v2 = value[dir2][x2][y2] + cost[a]\n",
        "\n",
        "                        if v2 < value[dir][x][y]:\n",
        "                            change = True\n",
        "                            value[dir][x][y] = v2\n",
        "                            full_policy[dir][x][y] = action_name[a]\n",
        "\n",
        "    return full_policy"
      ],
      "execution_count": 6,
      "outputs": []
    },
    {
      "cell_type": "code",
      "metadata": {
        "colab": {
          "base_uri": "https://localhost:8080/"
        },
        "id": "8Owzs3g6MZEM",
        "outputId": "5204e17c-4bd2-4f1b-8db4-1bb44694922b"
      },
      "source": [
        "full_board = optimum_policy2D(grid,init,goal,cost,action,forward,action_name)\n",
        "full_board"
      ],
      "execution_count": 7,
      "outputs": [
        {
          "output_type": "execute_result",
          "data": {
            "text/plain": [
              "[[[' ', ' ', ' ', 'R', 'R', 'L'],\n",
              "  [' ', ' ', ' ', '#', ' ', '#'],\n",
              "  ['*', 'L', 'L', '#', 'L', 'L'],\n",
              "  [' ', ' ', ' ', '#', ' ', ' '],\n",
              "  [' ', ' ', ' ', '#', ' ', ' ']],\n",
              " [[' ', ' ', ' ', 'L', '#', '#'],\n",
              "  [' ', ' ', ' ', 'R', ' ', 'L'],\n",
              "  ['*', '#', '#', '#', '#', '#'],\n",
              "  [' ', ' ', ' ', 'R', ' ', ' '],\n",
              "  [' ', ' ', ' ', 'R', ' ', ' ']],\n",
              " [[' ', ' ', ' ', '#', 'R', '#'],\n",
              "  [' ', ' ', ' ', '#', ' ', '#'],\n",
              "  ['*', 'R', 'R', 'R', 'R', 'R'],\n",
              "  [' ', ' ', ' ', ' ', ' ', ' '],\n",
              "  [' ', ' ', ' ', ' ', ' ', ' ']],\n",
              " [[' ', ' ', ' ', 'R', '#', 'R'],\n",
              "  [' ', ' ', ' ', 'R', ' ', 'R'],\n",
              "  ['*', '#', '#', 'L', '#', 'L'],\n",
              "  [' ', ' ', ' ', 'L', ' ', ' '],\n",
              "  [' ', ' ', ' ', 'L', ' ', ' ']]]"
            ]
          },
          "metadata": {},
          "execution_count": 7
        }
      ]
    }
  ]
}