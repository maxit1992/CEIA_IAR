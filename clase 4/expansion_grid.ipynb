{
  "nbformat": 4,
  "nbformat_minor": 0,
  "metadata": {
    "kernelspec": {
      "display_name": "Python 3",
      "language": "python",
      "name": "python3"
    },
    "language_info": {
      "codemirror_mode": {
        "name": "ipython",
        "version": 3
      },
      "file_extension": ".py",
      "mimetype": "text/x-python",
      "name": "python",
      "nbconvert_exporter": "python",
      "pygments_lexer": "ipython3",
      "version": "3.6.3"
    },
    "colab": {
      "name": "expansion_grid.ipynb",
      "provenance": []
    }
  },
  "cells": [
    {
      "cell_type": "markdown",
      "metadata": {
        "id": "W_9U1_jLVItQ"
      },
      "source": [
        "## Grid expansion\n",
        "Crear y verificar código que cumpla con la consigna."
      ]
    },
    {
      "cell_type": "code",
      "metadata": {
        "id": "Qg_DS1tYU6dz"
      },
      "source": [
        "# -----------\n",
        "# User Instructions:\n",
        "# \n",
        "# Modify the function search so that it returns\n",
        "# a table of values called expand. This table\n",
        "# will keep track of which step each node was\n",
        "# expanded.\n",
        "#\n",
        "# Make sure that the initial cell in the grid \n",
        "# you return has the value 0.\n",
        "# ----------\n",
        "def validate(position, grid):\n",
        "  # Invalid axis 0\n",
        "  if (position[0] < 0) or (position[0] >= len(grid)):\n",
        "    return False\n",
        "\n",
        "  # Invalid axis 1\n",
        "  if (position[1] < 0) or (position[1] >= len(grid[0])):\n",
        "    return False\n",
        "\n",
        "  # Outside Cfree\n",
        "  if grid[position[0]][position[1]] == 1:\n",
        "    return False\n",
        "\n",
        "  #Valid position\n",
        "  return True\n",
        "  \n",
        "\n",
        "def search(grid,init,goal,cost, valid_movements):\n",
        "\n",
        "\n",
        "  expand = [[-1 for col in range(len(grid[0]))] for row in range(len(grid))]\n",
        "  expand[init[0]][init[1]]=0\n",
        "  \n",
        "  position_list = []\n",
        "  position_list.append(init)\n",
        "  \n",
        "  count = 0\n",
        "\n",
        "  while True:\n",
        "\n",
        "    if len(position_list)==0:\n",
        "      return 'fail'\n",
        "\n",
        "    prev_position = position_list.pop(0)\n",
        "    count += 1\n",
        "    \n",
        "    for movement in valid_movements:\n",
        "      new_position = [ prev_position[0]+movement[0] ,\n",
        "                        prev_position[1]+movement[1]]\n",
        "      \n",
        "      if validate(new_position, grid):\n",
        "        if (expand[new_position[0]][new_position[1]]==-1) or (count < expand[new_position[0]][new_position[1]]):\n",
        "          expand[new_position[0]][new_position[1]] = count\n",
        "\n",
        "          if new_position == goal:\n",
        "            return expand\n",
        "\n",
        "          position_list.append(new_position)\n",
        "          "
      ],
      "execution_count": 1,
      "outputs": []
    },
    {
      "cell_type": "code",
      "metadata": {
        "colab": {
          "base_uri": "https://localhost:8080/"
        },
        "id": "Ezp4htu6tiMu",
        "outputId": "22e36aea-0f3f-4677-ce12-24fee2ce473a"
      },
      "source": [
        "# Test\n",
        "grid = [[0, 0, 1, 0, 0, 0],\n",
        "        [0, 0, 1, 0, 0, 0],\n",
        "        [0, 0, 0, 0, 1, 0],\n",
        "        [0, 0, 1, 1, 1, 0],\n",
        "        [0, 0, 0, 0, 1, 0]]\n",
        "init = [0, 0]\n",
        "goal = [len(grid)-1, len(grid[0])-1]\n",
        "cost = 1\n",
        "\n",
        "delta = [[-1, 0], # go up\n",
        "         [ 0,-1], # go left\n",
        "         [ 1, 0], # go down\n",
        "         [ 0, 1]] # go right\n",
        "\n",
        "delta_name = ['^', '<', 'v', '>']\n",
        "\n",
        "search(grid,init,goal,cost,delta)"
      ],
      "execution_count": 2,
      "outputs": [
        {
          "output_type": "execute_result",
          "data": {
            "text/plain": [
              "[[0, 1, -1, 14, 16, 18],\n",
              " [1, 2, -1, 12, 14, 17],\n",
              " [2, 4, 7, 10, -1, 19],\n",
              " [4, 6, -1, -1, -1, 21],\n",
              " [6, 8, 11, 13, -1, 22]]"
            ]
          },
          "metadata": {},
          "execution_count": 2
        }
      ]
    },
    {
      "cell_type": "code",
      "metadata": {
        "colab": {
          "base_uri": "https://localhost:8080/"
        },
        "id": "lrhEhgnwfwNt",
        "outputId": "8bd5b791-d6b8-4efc-d2f0-1eeb66911a6c"
      },
      "source": [
        "grid = [[0, 1, 0, 0, 0, 0],\n",
        "        [0, 1, 0, 0, 0, 0],\n",
        "        [0, 1, 0, 0, 0, 0],\n",
        "        [0, 1, 0, 0, 0, 0],\n",
        "        [0, 0, 0, 0, 1, 0]]\n",
        "\n",
        "search(grid,init,goal,cost,delta)"
      ],
      "execution_count": 3,
      "outputs": [
        {
          "output_type": "execute_result",
          "data": {
            "text/plain": [
              "[[0, -1, 12, 15, -1, -1],\n",
              " [1, -1, 10, 12, 16, -1],\n",
              " [2, -1, 8, 10, 13, 17],\n",
              " [3, -1, 7, 8, 11, 14],\n",
              " [4, 5, 6, 7, -1, 18]]"
            ]
          },
          "metadata": {},
          "execution_count": 3
        }
      ]
    },
    {
      "cell_type": "code",
      "metadata": {
        "colab": {
          "base_uri": "https://localhost:8080/"
        },
        "id": "7W3FfvexgVPD",
        "outputId": "fd7755db-4911-4a55-f0fe-ebd7bc8296e7"
      },
      "source": [
        "grid = [[0, 1, 0, 0, 0, 0],\n",
        "        [0, 1, 0, 0, 0, 0],\n",
        "        [0, 1, 0, 0, 0, 0],\n",
        "        [0, 1, 0, 0, 0, 0],\n",
        "        [0, 0, 0, 0, 0, 0]]\n",
        "\n",
        "search(grid,init,goal,cost,delta)"
      ],
      "execution_count": 4,
      "outputs": [
        {
          "output_type": "execute_result",
          "data": {
            "text/plain": [
              "[[0, -1, -1, -1, -1, -1],\n",
              " [1, -1, 10, -1, -1, -1],\n",
              " [2, -1, 8, 10, -1, -1],\n",
              " [3, -1, 7, 8, 11, -1],\n",
              " [4, 5, 6, 7, 9, 12]]"
            ]
          },
          "metadata": {},
          "execution_count": 4
        }
      ]
    },
    {
      "cell_type": "code",
      "metadata": {
        "id": "pplCVpaneSkP"
      },
      "source": [
        "import copy\n",
        "# -----------\n",
        "# User Instructions:\n",
        "# \n",
        "# Modify the function search so that it returns\n",
        "# a table of values called expand. This table\n",
        "# will keep track of which step each node was\n",
        "# expanded.\n",
        "#\n",
        "# Make sure that the initial cell in the grid \n",
        "# you return has the value 0.\n",
        "# ----------\n",
        "def validate(position, grid):\n",
        "  # Invalid axis 0\n",
        "  if (position[0] < 0) or (position[0] >= len(grid)):\n",
        "    return False\n",
        "\n",
        "  # Invalid axis 1\n",
        "  if (position[1] < 0) or (position[1] >= len(grid[0])):\n",
        "    return False\n",
        "\n",
        "  # Outside Cfree\n",
        "  if grid[position[0]][position[1]] == 1:\n",
        "    return False\n",
        "\n",
        "  #Valid position\n",
        "  return True\n",
        "  \n",
        "\n",
        "def search(grid,init,goal,cost, valid_movements, movements_marks):\n",
        "\n",
        "\n",
        "  expand = [[-1 for col in range(len(grid[0]))] for row in range(len(grid))]\n",
        "  expand[init[0]][init[1]]=0\n",
        "\n",
        "  board = [ [' ' for i in range(len(grid[0]))] for i in range(len(grid))]\n",
        "  board[goal[0]][goal[1]] = '*'\n",
        "  \n",
        "  position_list = []\n",
        "  position_list.append(init)\n",
        "\n",
        "  board_list = []\n",
        "  board_list.append(board)\n",
        "  \n",
        "  count = 0\n",
        "\n",
        "  while True:\n",
        "\n",
        "    if len(position_list)==0:\n",
        "      return 'fail'\n",
        "\n",
        "    prev_position = position_list.pop(0)\n",
        "    prev_board = board_list.pop(0)\n",
        "    count += 1\n",
        "    \n",
        "    for i,movement in enumerate(valid_movements):\n",
        "\n",
        "      new_position = [ prev_position[0]+movement[0] ,\n",
        "                        prev_position[1]+movement[1]]\n",
        "      \n",
        "      if validate(new_position, grid):\n",
        "        if (expand[new_position[0]][new_position[1]]==-1) or (count < expand[new_position[0]][new_position[1]]):\n",
        "          \n",
        "          expand[new_position[0]][new_position[1]] = count\n",
        "          \n",
        "          new_board = copy.deepcopy(prev_board)\n",
        "          new_board[prev_position[0]][prev_position[1]] = movements_marks[i]\n",
        "\n",
        "          if new_position == goal:\n",
        "            return new_board\n",
        "\n",
        "          position_list.append(new_position)\n",
        "          board_list.append(new_board)\n"
      ],
      "execution_count": 5,
      "outputs": []
    },
    {
      "cell_type": "code",
      "metadata": {
        "colab": {
          "base_uri": "https://localhost:8080/"
        },
        "id": "EIgoMthDIjyH",
        "outputId": "1f8ea889-dff7-45f4-d943-00fe60f7d299"
      },
      "source": [
        "grid = [[0, 0, 1, 0, 0, 0],\n",
        "        [0, 0, 1, 0, 0, 0],\n",
        "        [0, 0, 0, 0, 1, 0],\n",
        "        [0, 0, 1, 1, 1, 0],\n",
        "        [0, 0, 0, 0, 1, 0]]\n",
        "search(grid,init,goal,cost,delta,delta_name)"
      ],
      "execution_count": 6,
      "outputs": [
        {
          "output_type": "execute_result",
          "data": {
            "text/plain": [
              "[['v', ' ', ' ', ' ', ' ', ' '],\n",
              " ['v', ' ', ' ', '>', '>', 'v'],\n",
              " ['>', '>', '>', '^', ' ', 'v'],\n",
              " [' ', ' ', ' ', ' ', ' ', 'v'],\n",
              " [' ', ' ', ' ', ' ', ' ', '*']]"
            ]
          },
          "metadata": {},
          "execution_count": 6
        }
      ]
    }
  ]
}