{
  "nbformat": 4,
  "nbformat_minor": 0,
  "metadata": {
    "colab": {
      "name": "a_star.ipynb",
      "provenance": []
    },
    "kernelspec": {
      "name": "python3",
      "display_name": "Python 3"
    },
    "language_info": {
      "name": "python"
    }
  },
  "cells": [
    {
      "cell_type": "code",
      "metadata": {
        "id": "Z75aL7UVXaAL"
      },
      "source": [
        "# -----------\n",
        "# User Instructions:\n",
        "#\n",
        "# Modify the the search function so that it becomes\n",
        "# an A* search algorithm as defined in the previous\n",
        "# lectures.\n",
        "#\n",
        "# Your function should return the expanded grid\n",
        "# which shows, for each element, the count when\n",
        "# it was expanded or -1 if the element was never expanded.\n",
        "# \n",
        "# If there is no path from init to goal,\n",
        "# the function should return the string 'fail'\n",
        "# ----------\n",
        "def search(grid,init,goal,cost,delta,heuristic):\n",
        "    # ----------------------------------------\n",
        "    # modify the code below\n",
        "    # ----------------------------------------\n",
        "    closed = [[0 for col in range(len(grid[0]))] for row in range(len(grid))]\n",
        "    closed[init[0]][init[1]] = 1\n",
        "\n",
        "    expand = [[-1 for col in range(len(grid[0]))] for row in range(len(grid))]\n",
        "    expand[init[0]][init[1]] = 0\n",
        "\n",
        "    x = init[0]\n",
        "    y = init[1]\n",
        "    g = 0\n",
        "\n",
        "    open = [[g, x, y]]\n",
        "\n",
        "    found = False  # flag that is set when search is complete\n",
        "    resign = False # flag set if we can't find expand\n",
        "    count = 0\n",
        "    \n",
        "    while not found and not resign:\n",
        "        if len(open) == 0:\n",
        "            resign = True\n",
        "            return \"Fail\"\n",
        "        else:\n",
        "            open.sort()\n",
        "            next = open.pop(0)\n",
        "            x = next[1]\n",
        "            y = next[2]\n",
        "            g = next[0]\n",
        "            count += 1\n",
        "            \n",
        "            if x == goal[0] and y == goal[1]:\n",
        "                found = True\n",
        "            else:\n",
        "                for i in range(len(delta)):\n",
        "                    x2 = x + delta[i][0]\n",
        "                    y2 = y + delta[i][1]\n",
        "                    if x2 >= 0 and x2 < len(grid) and y2 >=0 and y2 < len(grid[0]):\n",
        "                        if closed[x2][y2] == 0 and grid[x2][y2] == 0:\n",
        "                            g2 = g + cost + heuristic[x2][y2]\n",
        "                            open.append([g2, x2, y2])\n",
        "                            closed[x2][y2] = 1\n",
        "                            expand[x2][y2] = count\n",
        "\n",
        "    return expand"
      ],
      "execution_count": 5,
      "outputs": []
    },
    {
      "cell_type": "code",
      "metadata": {
        "colab": {
          "base_uri": "https://localhost:8080/"
        },
        "id": "QUsGNEVKQvMp",
        "outputId": "9c773810-2af5-459b-b0a1-2b6068b39d76"
      },
      "source": [
        "grid = [[0, 0, 1, 0, 0, 0],\n",
        "        [0, 0, 1, 0, 0, 0],\n",
        "        [0, 0, 0, 0, 1, 0],\n",
        "        [0, 0, 1, 1, 1, 0],\n",
        "        [0, 0, 0, 0, 1, 0]]\n",
        "\n",
        "heuristic = [[9, 8, 7, 6, 5, 4],\n",
        "             [8, 7, 6, 5, 4, 3],\n",
        "             [7, 6, 5, 4, 3, 2],\n",
        "             [6, 5, 4, 3, 2, 1],\n",
        "             [5, 4, 3, 2, 1, 0]]\n",
        "\n",
        "init = [0, 0]\n",
        "goal = [len(grid)-1, len(grid[0])-1]\n",
        "cost = 1\n",
        "\n",
        "delta = [[-1, 0 ], # go up\n",
        "         [ 0, -1], # go left\n",
        "         [ 1, 0 ], # go down\n",
        "         [ 0, 1 ]] # go right\n",
        "\n",
        "delta_name = ['^', '<', 'v', '>']\n",
        "\n",
        "search(grid,init,goal,cost,delta,heuristic)"
      ],
      "execution_count": 6,
      "outputs": [
        {
          "output_type": "execute_result",
          "data": {
            "text/plain": [
              "[[0, 1, -1, 14, 16, 18],\n",
              " [1, 2, -1, 11, 14, 16],\n",
              " [3, 4, 6, 8, -1, 18],\n",
              " [5, 6, -1, -1, -1, 20],\n",
              " [7, 9, 12, 13, -1, 22]]"
            ]
          },
          "metadata": {},
          "execution_count": 6
        }
      ]
    },
    {
      "cell_type": "code",
      "metadata": {
        "colab": {
          "base_uri": "https://localhost:8080/"
        },
        "id": "rqoHGGh2VkIi",
        "outputId": "56aac50b-b191-4446-eaa2-15baaed7ac3e"
      },
      "source": [
        "grid = [[0, 1, 0, 0, 0, 0],\n",
        "        [0, 1, 0, 0, 0, 0],\n",
        "        [0, 1, 0, 0, 0, 0],\n",
        "        [0, 1, 0, 0, 0, 0],\n",
        "        [0, 0, 0, 0, 1, 0]]\n",
        "\n",
        "search(grid,init,goal,cost,delta,heuristic)"
      ],
      "execution_count": 7,
      "outputs": [
        {
          "output_type": "execute_result",
          "data": {
            "text/plain": [
              "[[0, -1, -1, -1, -1, -1],\n",
              " [1, -1, 12, 13, -1, -1],\n",
              " [2, -1, 9, 10, 11, 14],\n",
              " [3, -1, 7, 8, 10, 11],\n",
              " [4, 5, 6, 7, -1, 14]]"
            ]
          },
          "metadata": {},
          "execution_count": 7
        }
      ]
    },
    {
      "cell_type": "code",
      "metadata": {
        "colab": {
          "base_uri": "https://localhost:8080/"
        },
        "id": "oAIC9NszggbV",
        "outputId": "86e73c79-d9df-4a8a-f155-542dde3ea823"
      },
      "source": [
        "grid = [[0, 1, 0, 0, 0, 0],\n",
        "        [0, 1, 0, 0, 0, 0],\n",
        "        [0, 1, 0, 0, 0, 0],\n",
        "        [0, 1, 0, 0, 0, 0],\n",
        "        [0, 0, 0, 0, 0, 0]]\n",
        "\n",
        "search(grid,init,goal,cost,delta,heuristic)"
      ],
      "execution_count": 8,
      "outputs": [
        {
          "output_type": "execute_result",
          "data": {
            "text/plain": [
              "[[0, -1, -1, -1, -1, -1],\n",
              " [1, -1, -1, -1, -1, -1],\n",
              " [2, -1, 9, -1, -1, -1],\n",
              " [3, -1, 7, 8, 10, -1],\n",
              " [4, 5, 6, 7, 8, 10]]"
            ]
          },
          "metadata": {},
          "execution_count": 8
        }
      ]
    },
    {
      "cell_type": "markdown",
      "metadata": {
        "id": "pKE99ZTxivUt"
      },
      "source": [
        "Se observa que en los casos propuestos, con A* se acelera la busqueda de la solución."
      ]
    },
    {
      "cell_type": "markdown",
      "metadata": {
        "id": "urpJpB-KnuEJ"
      },
      "source": [
        "## A* aplicado a un vehículo autónomo\n",
        "\n",
        "https://www.youtube.com/watch?v=qXZt-B7iUyw"
      ]
    }
  ]
}