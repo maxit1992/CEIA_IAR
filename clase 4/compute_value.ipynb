{
  "nbformat": 4,
  "nbformat_minor": 0,
  "metadata": {
    "colab": {
      "name": "compute_value.ipynb",
      "provenance": []
    },
    "kernelspec": {
      "name": "python3",
      "display_name": "Python 3"
    },
    "language_info": {
      "name": "python"
    }
  },
  "cells": [
    {
      "cell_type": "code",
      "metadata": {
        "id": "cOCSNnM8zR1O"
      },
      "source": [
        "def validate(position, grid):\n",
        "  # Invalid axis 0\n",
        "  if (position[0] < 0) or (position[0] >= len(grid)):\n",
        "    return False\n",
        "\n",
        "  # Invalid axis 1\n",
        "  if (position[1] < 0) or (position[1] >= len(grid[0])):\n",
        "    return False\n",
        "\n",
        "  # Outside Cfree\n",
        "  if grid[position[0]][position[1]] == 1:\n",
        "    return False\n",
        "\n",
        "  #Valid position\n",
        "  return True\n",
        "  \n",
        "\n",
        "def search(grid,init,goal,cost, valid_movements):\n",
        "  \n",
        "  if not(validate(init,grid)):\n",
        "    return 99\n",
        "\n",
        "  should_continue = True\n",
        "\n",
        "  position_list = []\n",
        "  cost_list = []\n",
        "  cost_list.append(0)\n",
        "  position_list.append(init)\n",
        "\n",
        "  # We could finish early if we found the goal\n",
        "  # But we continue the exploration to allow flexibility when movements costs are not the same\n",
        "  while should_continue:\n",
        "\n",
        "    should_continue = False\n",
        "\n",
        "    # Take every position in last iteration\n",
        "    for i in range(len(position_list)):\n",
        "\n",
        "      prev_position= position_list[i]\n",
        "      prev_cost = cost_list[i]\n",
        "\n",
        "      # Update new positions with valid movements \n",
        "      for movement in valid_movements:\n",
        "        new_position = [ prev_position[0]+movement[0] ,\n",
        "                         prev_position[1]+movement[1]]\n",
        "        new_cost = prev_cost + cost\n",
        "        \n",
        "        # Validate new positions\n",
        "        if validate(new_position, grid):\n",
        "          if new_position in position_list:\n",
        "            # update position on min cost\n",
        "            # This is to be more generic and flexible with movements costs\n",
        "            # On this example it does not make sense\n",
        "            index_found = position_list.index(new_position)\n",
        "            if new_cost < cost_list[index_found]:\n",
        "              cost_list[index_found] = new_cost\n",
        "              should_continue = True\n",
        "          else:\n",
        "            # append new position\n",
        "            position_list.append(new_position)\n",
        "            cost_list.append(new_cost)\n",
        "            should_continue = True\n",
        "\n",
        "  # Search for goal paths\n",
        "  if goal in position_list:\n",
        "    index_found = position_list.index(goal)\n",
        "    return cost_list[index_found]\n",
        "  else:\n",
        "    return 99"
      ],
      "execution_count": 1,
      "outputs": []
    },
    {
      "cell_type": "code",
      "metadata": {
        "id": "m2WUBixqaK7N"
      },
      "source": [
        "# ----------\n",
        "# User Instructions:\n",
        "# \n",
        "# Create a function compute_value which returns\n",
        "# a grid of values. The value of a cell is the minimum\n",
        "# number of moves required to get from the cell to the goal. \n",
        "#\n",
        "# If a cell is a wall or it is impossible to reach the goal from a cell,\n",
        "# assign that cell a value of 99.\n",
        "# ----------\n",
        "def compute_value(grid,goal,cost, valid_movements):\n",
        "    # ----------------------------------------\n",
        "    # insert code below\n",
        "    # ----------------------------------------\n",
        "    compute_value = [[0 for col in range(len(grid[0]))] for row in range(len(grid))]\n",
        "    \n",
        "    for x1 in range(len(grid)):\n",
        "      for x2 in range(len(grid[0])):\n",
        "        compute_value[x1][x2] = search(grid,[x1,x2],goal,cost, valid_movements)\n",
        "\n",
        "    # make sure your function returns a grid of values as \n",
        "    # demonstrated in the previous video.\n",
        "    return compute_value"
      ],
      "execution_count": 2,
      "outputs": []
    },
    {
      "cell_type": "code",
      "metadata": {
        "colab": {
          "base_uri": "https://localhost:8080/"
        },
        "id": "2q-SyLmhzZH3",
        "outputId": "383dd8c6-1e03-434d-86cf-1d65adfefa9d"
      },
      "source": [
        "grid = [[0, 1, 0, 0, 0, 0],\n",
        "        [0, 1, 0, 0, 0, 0],\n",
        "        [0, 1, 0, 1, 1, 0],\n",
        "        [0, 1, 0, 0, 1, 0],\n",
        "        [0, 0, 0, 0, 1, 0]]\n",
        "goal = [len(grid)-1, len(grid[0])-1]\n",
        "cost = 1 # the cost associated with moving from a cell to an adjacent one\n",
        "\n",
        "delta = [[-1, 0 ], # go up\n",
        "         [ 0, -1], # go left\n",
        "         [ 1, 0 ], # go down\n",
        "         [ 0, 1 ]] # go right\n",
        "\n",
        "delta_name = ['^', '<', 'v', '>']\n",
        "\n",
        "compute_value(grid,goal,cost, delta)"
      ],
      "execution_count": 3,
      "outputs": [
        {
          "output_type": "execute_result",
          "data": {
            "text/plain": [
              "[[15, 99, 7, 6, 5, 4],\n",
              " [14, 99, 6, 5, 4, 3],\n",
              " [13, 99, 7, 99, 99, 2],\n",
              " [12, 99, 8, 9, 99, 1],\n",
              " [11, 10, 9, 10, 99, 0]]"
            ]
          },
          "metadata": {},
          "execution_count": 3
        }
      ]
    }
  ]
}