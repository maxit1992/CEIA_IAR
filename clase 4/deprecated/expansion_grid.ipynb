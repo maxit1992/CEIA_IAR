{
  "nbformat": 4,
  "nbformat_minor": 0,
  "metadata": {
    "kernelspec": {
      "display_name": "Python 3",
      "language": "python",
      "name": "python3"
    },
    "language_info": {
      "codemirror_mode": {
        "name": "ipython",
        "version": 3
      },
      "file_extension": ".py",
      "mimetype": "text/x-python",
      "name": "python",
      "nbconvert_exporter": "python",
      "pygments_lexer": "ipython3",
      "version": "3.6.3"
    },
    "colab": {
      "name": "expansion_grid.ipynb",
      "provenance": []
    }
  },
  "cells": [
    {
      "cell_type": "markdown",
      "metadata": {
        "id": "W_9U1_jLVItQ"
      },
      "source": [
        "## Grid expansion\n",
        "Crear y verificar código que cumpla con la consigna."
      ]
    },
    {
      "cell_type": "code",
      "metadata": {
        "id": "Qg_DS1tYU6dz"
      },
      "source": [
        "# -----------\n",
        "# User Instructions:\n",
        "# \n",
        "# Modify the function search so that it returns\n",
        "# a table of values called expand. This table\n",
        "# will keep track of which step each node was\n",
        "# expanded.\n",
        "#\n",
        "# Make sure that the initial cell in the grid \n",
        "# you return has the value 0.\n",
        "# ----------\n",
        "def validate(position, grid):\n",
        "  # Invalid axis 0\n",
        "  if (position[0] < 0) or (position[0] >= len(grid)):\n",
        "    return False\n",
        "\n",
        "  # Invalid axis 1\n",
        "  if (position[1] < 0) or (position[1] >= len(grid[0])):\n",
        "    return False\n",
        "\n",
        "  # Outside Cfree\n",
        "  if grid[position[0]][position[1]] == 1:\n",
        "    return False\n",
        "\n",
        "  #Valid position\n",
        "  return True\n",
        "  \n",
        "\n",
        "def search(grid,init,goal,cost, valid_movements):\n",
        "\n",
        "  should_continue = True\n",
        "\n",
        "  position_list = []\n",
        "  cost_list = []\n",
        "  cost_list.append(0)\n",
        "  position_list.append(init)\n",
        "\n",
        "  # We could finish early if we found the goal\n",
        "  # But we continue the exploration to allow flexibility when movements costs are not the same\n",
        "  while should_continue:\n",
        "\n",
        "    should_continue = False\n",
        "\n",
        "    # Take every position in last iteration\n",
        "    for i in range(len(position_list)):\n",
        "\n",
        "      prev_position= position_list[i]\n",
        "      prev_cost = cost_list[i]\n",
        "\n",
        "      # Update new positions with valid movements \n",
        "      for movement in valid_movements:\n",
        "        new_position = [ prev_position[0]+movement[0] ,\n",
        "                         prev_position[1]+movement[1]]\n",
        "        new_cost = prev_cost + cost\n",
        "        \n",
        "        # Validate new positions\n",
        "        if validate(new_position, grid):\n",
        "          if new_position in position_list:\n",
        "            # update position on min cost\n",
        "            # This is to be more generic and flexible with movements costs\n",
        "            # On this example it does not make sense\n",
        "            index_found = position_list.index(new_position)\n",
        "            if new_cost < cost_list[index_found]:\n",
        "              cost_list[index_found] = new_cost\n",
        "              should_continue = True\n",
        "          else:\n",
        "            # append new position\n",
        "            position_list.append(new_position)\n",
        "            cost_list.append(new_cost)\n",
        "            should_continue = True\n",
        "\n",
        "  expand = [ [-1 for i in range(len(grid[0]))] for i in range(len(grid))]\n",
        "  for i in range(len(position_list)):\n",
        "    expand[position_list[i][0]][position_list[i][1]]=cost_list[i]\n",
        "  \n",
        "  # Search for goal paths\n",
        "  if goal in position_list:\n",
        "    return expand\n",
        "  else:\n",
        "    return \"fail\""
      ],
      "execution_count": 1,
      "outputs": []
    },
    {
      "cell_type": "code",
      "metadata": {
        "colab": {
          "base_uri": "https://localhost:8080/"
        },
        "id": "Ezp4htu6tiMu",
        "outputId": "904d4e76-771d-43af-c8c2-6a37be144424"
      },
      "source": [
        "# Test\n",
        "grid = [[0, 0, 1, 0, 0, 0],\n",
        "        [0, 0, 1, 0, 0, 0],\n",
        "        [0, 0, 0, 0, 1, 0],\n",
        "        [0, 0, 1, 1, 1, 0],\n",
        "        [0, 0, 0, 0, 1, 0]]\n",
        "init = [0, 0]\n",
        "goal = [len(grid)-1, len(grid[0])-1]\n",
        "cost = 1\n",
        "\n",
        "delta = [[-1, 0], # go up\n",
        "         [ 0,-1], # go left\n",
        "         [ 1, 0], # go down\n",
        "         [ 0, 1]] # go right\n",
        "\n",
        "delta_name = ['^', '<', 'v', '>']\n",
        "\n",
        "search(grid,init,goal,cost,delta)"
      ],
      "execution_count": 2,
      "outputs": [
        {
          "output_type": "execute_result",
          "data": {
            "text/plain": [
              "[[0, 1, -1, 7, 8, 9],\n",
              " [1, 2, -1, 6, 7, 8],\n",
              " [2, 3, 4, 5, -1, 9],\n",
              " [3, 4, -1, -1, -1, 10],\n",
              " [4, 5, 6, 7, -1, 11]]"
            ]
          },
          "metadata": {},
          "execution_count": 2
        }
      ]
    },
    {
      "cell_type": "code",
      "metadata": {
        "id": "d8KBuNKBV64f"
      },
      "source": [
        "import copy\n",
        "# -----------\n",
        "# User Instructions:\n",
        "#\n",
        "# Modify the the search function so that it returns\n",
        "# a shortest path as follows:\n",
        "# \n",
        "# [['>', 'v', ' ', ' ', ' ', ' '],\n",
        "#  [' ', '>', '>', '>', '>', 'v'],\n",
        "#  [' ', ' ', ' ', ' ', ' ', 'v'],\n",
        "#  [' ', ' ', ' ', ' ', ' ', 'v'],\n",
        "#  [' ', ' ', ' ', ' ', ' ', '*']]\n",
        "#\n",
        "# Where '>', '<', '^', and 'v' refer to right, left, \n",
        "# up, and down motions. Note that the 'v' should be \n",
        "# lowercase. '*' should mark the goal cell.\n",
        "#\n",
        "# You may assume that all test cases for this function\n",
        "# will have a path from init to goal.\n",
        "# ----------\n",
        "# -----------\n",
        "# User Instructions:\n",
        "# \n",
        "# Modify the function search so that it returns\n",
        "# a table of values called expand. This table\n",
        "# will keep track of which step each node was\n",
        "# expanded.\n",
        "#\n",
        "# Make sure that the initial cell in the grid \n",
        "# you return has the value 0.\n",
        "# ----------\n",
        "def validate(position, grid):\n",
        "  # Invalid axis 0\n",
        "  if (position[0] < 0) or (position[0] >= len(grid)):\n",
        "    return False\n",
        "\n",
        "  # Invalid axis 1\n",
        "  if (position[1] < 0) or (position[1] >= len(grid[0])):\n",
        "    return False\n",
        "\n",
        "  # Outside Cfree\n",
        "  if grid[position[0]][position[1]] == 1:\n",
        "    return False\n",
        "\n",
        "  #Valid position\n",
        "  return True\n",
        "  \n",
        "\n",
        "def search(grid,init,goal,cost, valid_movements, movements_marks):\n",
        "\n",
        "  board = [ [' ' for i in range(len(grid[0]))] for i in range(len(grid))]\n",
        "  board[goal[0]][goal[1]] = '*'\n",
        "\n",
        "  position_list = []\n",
        "  cost_list = []\n",
        "  board_list = []\n",
        "  cost_list.append(0)\n",
        "  position_list.append(init)\n",
        "  board_list.append(board)\n",
        "\n",
        "  # Continue until  reach the goal\n",
        "  while True:\n",
        "    # Take every position in last iteration\n",
        "    for i in range(len(position_list)):\n",
        "      \n",
        "      prev_position= position_list[i]\n",
        "      prev_cost = cost_list[i]\n",
        "      prev_board = board_list[i]\n",
        "\n",
        "      # Update new positions with valid movements \n",
        "      for  j in range(len(valid_movements)):\n",
        "        new_position = [ prev_position[0]+valid_movements[j][0] ,\n",
        "                         prev_position[1]+valid_movements[j][1]]\n",
        "        new_cost = prev_cost + cost\n",
        "        new_board = copy.deepcopy(prev_board)\n",
        "        new_board[prev_position[0]][prev_position[1]] = movements_marks[j]\n",
        "        \n",
        "        # Validate new positions\n",
        "        if validate(new_position, grid):\n",
        "          if new_position in position_list:\n",
        "            # update position on min cost\n",
        "            # This is to be more generic and flexible with movements costs\n",
        "            # On this example it does not make sense\n",
        "            index_found = position_list.index(new_position)\n",
        "            if new_cost < cost_list[index_found]:\n",
        "              cost_list[index_found] = new_cost\n",
        "              board_list[index_found] = new_board\n",
        "          else:\n",
        "            # append new position\n",
        "            position_list.append(new_position)\n",
        "            cost_list.append(new_cost)\n",
        "            board_list.append(new_board)\n",
        "    \n",
        "    # Search for goal paths\n",
        "    if goal in position_list:\n",
        "      index_found = position_list.index(goal)\n",
        "      return board_list[index_found]"
      ],
      "execution_count": 3,
      "outputs": []
    },
    {
      "cell_type": "code",
      "metadata": {
        "colab": {
          "base_uri": "https://localhost:8080/"
        },
        "id": "EIgoMthDIjyH",
        "outputId": "35f9e61e-d35c-422f-c4fd-e9d7dc4d09b3"
      },
      "source": [
        "search(grid,init,goal,cost,delta,delta_name)"
      ],
      "execution_count": 4,
      "outputs": [
        {
          "output_type": "execute_result",
          "data": {
            "text/plain": [
              "[['v', ' ', ' ', ' ', ' ', ' '],\n",
              " ['v', ' ', ' ', '>', '>', 'v'],\n",
              " ['>', '>', '>', '^', ' ', 'v'],\n",
              " [' ', ' ', ' ', ' ', ' ', 'v'],\n",
              " [' ', ' ', ' ', ' ', ' ', '*']]"
            ]
          },
          "metadata": {},
          "execution_count": 4
        }
      ]
    }
  ]
}