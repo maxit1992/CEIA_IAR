{
  "nbformat": 4,
  "nbformat_minor": 0,
  "metadata": {
    "kernelspec": {
      "display_name": "Python 3",
      "language": "python",
      "name": "python3"
    },
    "language_info": {
      "codemirror_mode": {
        "name": "ipython",
        "version": 3
      },
      "file_extension": ".py",
      "mimetype": "text/x-python",
      "name": "python",
      "nbconvert_exporter": "python",
      "pygments_lexer": "ipython3",
      "version": "3.6.3"
    },
    "colab": {
      "name": "first_search.ipynb",
      "provenance": []
    }
  },
  "cells": [
    {
      "cell_type": "code",
      "metadata": {
        "id": "dgIS2As5W5bi"
      },
      "source": [
        "# ----------\n",
        "# User Instructions:\n",
        "# \n",
        "# Define a function, search() that returns a list\n",
        "# in the form of [optimal path length, row, col]. For\n",
        "# the grid shown below, your function should output\n",
        "# [11, 4, 5].\n",
        "#\n",
        "# If there is no valid path from the start point\n",
        "# to the goal, your function should return the string\n",
        "# 'fail'\n",
        "# ----------\n",
        "\n",
        "# Grid format:\n",
        "#   0 = Navigable space\n",
        "#   1 = Occupied space\n",
        "def validate(position, grid):\n",
        "  # Invalid axis 0\n",
        "  if (position[0] < 0) or (position[0] >= len(grid)):\n",
        "    return False\n",
        "\n",
        "  # Invalid axis 1\n",
        "  if (position[1] < 0) or (position[1] >= len(grid[0])):\n",
        "    return False\n",
        "\n",
        "  # Outside Cfree\n",
        "  if grid[position[0]][position[1]] == 1:\n",
        "    return False\n",
        "\n",
        "  #Valid position\n",
        "  return True\n",
        "  \n",
        "\n",
        "def search(grid,init,goal,cost, valid_movements, verbose=False):\n",
        "\n",
        "  should_continue = True\n",
        "\n",
        "  position_list = []\n",
        "  cost_list = []\n",
        "  cost_list.append(0)\n",
        "  position_list.append(init)\n",
        "\n",
        "  # We could finish early if we found the goal\n",
        "  # But we continue the exploration to allow flexibility when movements costs are not the same\n",
        "  while should_continue:\n",
        "\n",
        "    should_continue = False\n",
        "\n",
        "    # Take every position in last iteration\n",
        "    for i in range(len(position_list)):\n",
        "\n",
        "      prev_position= position_list[i]\n",
        "      prev_cost = cost_list[i]\n",
        "\n",
        "      # Update new positions with valid movements \n",
        "      for movement in valid_movements:\n",
        "        new_position = [ prev_position[0]+movement[0] ,\n",
        "                         prev_position[1]+movement[1]]\n",
        "        new_cost = prev_cost + cost\n",
        "        \n",
        "        # Validate new positions\n",
        "        if validate(new_position, grid):\n",
        "          if new_position in position_list:\n",
        "            # update position on min cost\n",
        "            # This is to be more generic and flexible with movements costs\n",
        "            # On this example it does not make sense\n",
        "            index_found = position_list.index(new_position)\n",
        "            if new_cost < cost_list[index_found]:\n",
        "              cost_list[index_found] = new_cost\n",
        "              should_continue = True\n",
        "          else:\n",
        "            # append new position\n",
        "            position_list.append(new_position)\n",
        "            cost_list.append(new_cost)\n",
        "            should_continue = True\n",
        "\n",
        "    if verbose:\n",
        "      print([ [cost_list[i],\n",
        "               position_list[i][0],\n",
        "               position_list[i][1]] for i in range(len(position_list)) \n",
        "               ])\n",
        "  \n",
        "  # Search for goal paths\n",
        "  if goal in position_list:\n",
        "    index_found = position_list.index(goal)\n",
        "    return [cost_list[index_found],\n",
        "            goal[0],\n",
        "            goal[1]]\n",
        "  else:\n",
        "    return \"fail\""
      ],
      "execution_count": 67,
      "outputs": []
    },
    {
      "cell_type": "code",
      "metadata": {
        "colab": {
          "base_uri": "https://localhost:8080/"
        },
        "id": "ZrMLmVqckXEp",
        "outputId": "55df1636-112b-427c-d172-ac56adcabe2e"
      },
      "source": [
        "# Test\n",
        "grid = [[0, 0, 1, 0, 0, 0],\n",
        "        [0, 0, 1, 0, 0, 0],\n",
        "        [0, 0, 0, 0, 1, 0],\n",
        "        [0, 0, 1, 1, 1, 0],\n",
        "        [0, 0, 0, 0, 1, 0]]\n",
        "init = [0, 0]\n",
        "goal = [len(grid)-1, len(grid[0])-1]\n",
        "cost = 1\n",
        "\n",
        "delta = [[-1, 0], # go up\n",
        "         [ 0,-1], # go left\n",
        "         [ 1, 0], # go down\n",
        "         [ 0, 1]] # go right\n",
        "\n",
        "delta_name = ['^', '<', 'v', '>']\n",
        "\n",
        "print(search(grid,init,goal,cost,delta,True))"
      ],
      "execution_count": 68,
      "outputs": [
        {
          "output_type": "stream",
          "name": "stdout",
          "text": [
            "[[0, 0, 0], [1, 1, 0], [1, 0, 1]]\n",
            "[[0, 0, 0], [1, 1, 0], [1, 0, 1], [2, 2, 0], [2, 1, 1]]\n",
            "[[0, 0, 0], [1, 1, 0], [1, 0, 1], [2, 2, 0], [2, 1, 1], [3, 3, 0], [3, 2, 1]]\n",
            "[[0, 0, 0], [1, 1, 0], [1, 0, 1], [2, 2, 0], [2, 1, 1], [3, 3, 0], [3, 2, 1], [4, 4, 0], [4, 3, 1], [4, 2, 2]]\n",
            "[[0, 0, 0], [1, 1, 0], [1, 0, 1], [2, 2, 0], [2, 1, 1], [3, 3, 0], [3, 2, 1], [4, 4, 0], [4, 3, 1], [4, 2, 2], [5, 4, 1], [5, 2, 3]]\n",
            "[[0, 0, 0], [1, 1, 0], [1, 0, 1], [2, 2, 0], [2, 1, 1], [3, 3, 0], [3, 2, 1], [4, 4, 0], [4, 3, 1], [4, 2, 2], [5, 4, 1], [5, 2, 3], [6, 4, 2], [6, 1, 3]]\n",
            "[[0, 0, 0], [1, 1, 0], [1, 0, 1], [2, 2, 0], [2, 1, 1], [3, 3, 0], [3, 2, 1], [4, 4, 0], [4, 3, 1], [4, 2, 2], [5, 4, 1], [5, 2, 3], [6, 4, 2], [6, 1, 3], [7, 4, 3], [7, 0, 3], [7, 1, 4]]\n",
            "[[0, 0, 0], [1, 1, 0], [1, 0, 1], [2, 2, 0], [2, 1, 1], [3, 3, 0], [3, 2, 1], [4, 4, 0], [4, 3, 1], [4, 2, 2], [5, 4, 1], [5, 2, 3], [6, 4, 2], [6, 1, 3], [7, 4, 3], [7, 0, 3], [7, 1, 4], [8, 0, 4], [8, 1, 5]]\n",
            "[[0, 0, 0], [1, 1, 0], [1, 0, 1], [2, 2, 0], [2, 1, 1], [3, 3, 0], [3, 2, 1], [4, 4, 0], [4, 3, 1], [4, 2, 2], [5, 4, 1], [5, 2, 3], [6, 4, 2], [6, 1, 3], [7, 4, 3], [7, 0, 3], [7, 1, 4], [8, 0, 4], [8, 1, 5], [9, 0, 5], [9, 2, 5]]\n",
            "[[0, 0, 0], [1, 1, 0], [1, 0, 1], [2, 2, 0], [2, 1, 1], [3, 3, 0], [3, 2, 1], [4, 4, 0], [4, 3, 1], [4, 2, 2], [5, 4, 1], [5, 2, 3], [6, 4, 2], [6, 1, 3], [7, 4, 3], [7, 0, 3], [7, 1, 4], [8, 0, 4], [8, 1, 5], [9, 0, 5], [9, 2, 5], [10, 3, 5]]\n",
            "[[0, 0, 0], [1, 1, 0], [1, 0, 1], [2, 2, 0], [2, 1, 1], [3, 3, 0], [3, 2, 1], [4, 4, 0], [4, 3, 1], [4, 2, 2], [5, 4, 1], [5, 2, 3], [6, 4, 2], [6, 1, 3], [7, 4, 3], [7, 0, 3], [7, 1, 4], [8, 0, 4], [8, 1, 5], [9, 0, 5], [9, 2, 5], [10, 3, 5], [11, 4, 5]]\n",
            "[[0, 0, 0], [1, 1, 0], [1, 0, 1], [2, 2, 0], [2, 1, 1], [3, 3, 0], [3, 2, 1], [4, 4, 0], [4, 3, 1], [4, 2, 2], [5, 4, 1], [5, 2, 3], [6, 4, 2], [6, 1, 3], [7, 4, 3], [7, 0, 3], [7, 1, 4], [8, 0, 4], [8, 1, 5], [9, 0, 5], [9, 2, 5], [10, 3, 5], [11, 4, 5]]\n",
            "[11, 4, 5]\n"
          ]
        }
      ]
    },
    {
      "cell_type": "code",
      "metadata": {
        "colab": {
          "base_uri": "https://localhost:8080/"
        },
        "id": "N1DzwEHVp3BU",
        "outputId": "45a72ff7-133f-4fb4-c37b-9c92247e44cf"
      },
      "source": [
        "print(search(grid,init,goal,cost,delta))"
      ],
      "execution_count": 69,
      "outputs": [
        {
          "output_type": "stream",
          "name": "stdout",
          "text": [
            "[11, 4, 5]\n"
          ]
        }
      ]
    },
    {
      "cell_type": "code",
      "metadata": {
        "colab": {
          "base_uri": "https://localhost:8080/"
        },
        "id": "rgkqaIfkpyke",
        "outputId": "4362543e-42b1-4d47-e8b7-29ad153b3d47"
      },
      "source": [
        "goal = [7, 8]\n",
        "print(search(grid,init,goal,cost,delta))"
      ],
      "execution_count": 70,
      "outputs": [
        {
          "output_type": "stream",
          "name": "stdout",
          "text": [
            "fail\n"
          ]
        }
      ]
    },
    {
      "cell_type": "code",
      "metadata": {
        "colab": {
          "base_uri": "https://localhost:8080/"
        },
        "id": "kA-2WBQVrfkR",
        "outputId": "22510884-1660-431a-e560-a79286220311"
      },
      "source": [
        "goal = [0, 3]\n",
        "print(search(grid,init,goal,cost,delta))"
      ],
      "execution_count": 71,
      "outputs": [
        {
          "output_type": "stream",
          "name": "stdout",
          "text": [
            "[7, 0, 3]\n"
          ]
        }
      ]
    },
    {
      "cell_type": "code",
      "metadata": {
        "id": "1xHayQitW5b-",
        "colab": {
          "base_uri": "https://localhost:8080/",
          "height": 336
        },
        "outputId": "b62d1c0c-29e1-49d1-c9bf-ca93372f2b0a"
      },
      "source": [
        "##### SOLUTION: Run this cell to watch the solution video ######\n",
        "from IPython.display import HTML\n",
        "HTML('<iframe width=\"560\" height=\"315\" src=\"https://www.youtube.com/embed/cl8Kdkr4Gbg\" frameborder=\"0\" allow=\"accelerometer; autoplay; encrypted-media; gyroscope; picture-in-picture\" allowfullscreen></iframe>')"
      ],
      "execution_count": 1,
      "outputs": [
        {
          "output_type": "execute_result",
          "data": {
            "text/html": [
              "<iframe width=\"560\" height=\"315\" src=\"https://www.youtube.com/embed/cl8Kdkr4Gbg\" frameborder=\"0\" allow=\"accelerometer; autoplay; encrypted-media; gyroscope; picture-in-picture\" allowfullscreen></iframe>"
            ],
            "text/plain": [
              "<IPython.core.display.HTML object>"
            ]
          },
          "metadata": {},
          "execution_count": 1
        }
      ]
    },
    {
      "cell_type": "code",
      "metadata": {
        "id": "nahTJAiAWwRJ"
      },
      "source": [
        ""
      ],
      "execution_count": null,
      "outputs": []
    }
  ]
}